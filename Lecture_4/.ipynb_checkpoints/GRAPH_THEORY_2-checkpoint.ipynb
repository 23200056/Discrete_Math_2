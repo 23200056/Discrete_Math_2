{
 "cells": [
  {
   "cell_type": "markdown",
   "id": "d01c0e27-ae36-4227-ad73-ee0ff852fe80",
   "metadata": {},
   "source": [
    "# Matrix Representations of Graphs\n",
    "---\n",
    "\n",
    "- An $m × n$ (read “m by n” referred to as the dimension or size) matrix A over a set S is a rectangular array of elements of S arranged into m rows and n columns:\n",
    "\\begin{equation}\n",
    "\\textbf{A} = \n",
    "\\begin{bmatrix}\n",
    "a_{11} & a_{12} & ... & a_{1j} & ... & a_{1n} \\\\\n",
    "a_{21} & a_{22} & ... & a_{2j} & ... & a_{2n} \\\\\n",
    ". & . & ... & ... & ... \\\\\n",
    ". & . & ... & ... & ... \\\\\n",
    ". & . & ...  & ... & ... \\\\\n",
    "a_{i1} & a_{i2} & ... & a_{ij} & ... & a_{in} \\\\\n",
    ". & . & ... & ... & ... \\\\\n",
    ". & . & ... & ... & ... \\\\\n",
    ". & . & ...  & ... & ... \\\\\n",
    "a_{m1} & a_{m2} & ... & a_{mj} & ... & a_{mn} \\\\\n",
    "\\end{bmatrix}\n",
    "\\end{equation}\n",
    "\n",
    "- The matrix can also be re-written as: $\\textbf{A} = \\begin{bmatrix}a_{ij}\\end{bmatrix}$.\n",
    "\n",
    "- The $\\textbf{i}^{\\textbf{th}} \\textbf{row}$ is $\\begin{bmatrix} a_{i1} & a_{i2} & ... & a_{ij} & ... & a_{in}\\end{bmatrix}$\n",
    "\n",
    "- The $\\textbf{j}^{\\textbf{th}} \\textbf{column}$ is $\\begin{bmatrix} a_{1j} \\\\ a_{2j} \\\\ ... \\\\ a_{ij} \\\\ ... \\\\ a_{mj}\\end{bmatrix}$\n",
    "\n",
    "## Example\n",
    "---\n",
    "\n",
    "Given the following matrix:\n",
    "\\begin{equation}\n",
    "\\textbf{A} = a_{ij} = \n",
    "\\begin{bmatrix}\n",
    "1 & 0 & -3 \\\\\n",
    "4 & -1 & 5 \\\\\n",
    "-2 & 2 & 0 \\\\\n",
    "\\end{bmatrix}\n",
    "\\end{equation}\n",
    "\n",
    "## Find:\n",
    "---\n",
    "1. The dimension of the matrix.\n",
    "2. What is the value of $a_{23}$?\n",
    "3. Find the column vector $a_{i2}$.\n",
    "4. Find the diagonal values of $\\textbf{A}$."
   ]
  },
  {
   "cell_type": "markdown",
   "id": "1390e2d9-4b2d-4398-bae0-fd5c46ab3196",
   "metadata": {},
   "source": [
    "# Matrix Representation of an Undirected Graphs.\n",
    "---\n",
    "\n",
    "$\\textbf{Definition}$\n",
    "\n",
    "- Let $G$ be an undirected graph with ordered vertices $v_1,v_2,...,v_n$. The adjacency matrix of $G$ is the $n × n$ matrix $\\textbf{A} = \\begin{bmatrix}a_{ij}\\end{bmatrix}$ over the set of nonnegative integers such that:\n",
    "\\begin{equation}\n",
    "a_{ij} = \\text{the number of edges connecting } v_i \\text{ and } v_j \\ \\forall i, j = 1,2,...,n.\n",
    "\\end{equation}\n",
    "\n",
    "## Example\n",
    "---\n",
    "Find the adjaceny matrix of the given graph:"
   ]
  },
  {
   "cell_type": "code",
   "execution_count": 9,
   "id": "8d65aef4-915b-4884-bb43-1f50c6571c7d",
   "metadata": {},
   "outputs": [
    {
     "data": {
      "image/png": "[encoded data removed]",
      "text/plain": [
       "<Figure size 640x480 with 1 Axes>"
      ]
     },
     "metadata": {},
     "output_type": "display_data"
    }
   ],
   "source": [
    "import matplotlib.pyplot as plt\n",
    "import networkx as nx\n",
    "n = 4  # 10 nodes\n",
    "m = 6  # 20 edges\n",
    "\n",
    "# Use seed for reproducibility\n",
    "G = nx.gnm_random_graph(n, m, seed=seed)\n",
    "# Add self-loops to the remaining nodes\n",
    "edgelist = [(1,2),(1,4),(2,2), (2,3),(2,4),(4,4)]\n",
    "G.add_edges_from(edgelist)\n",
    "pos = nx.planar_layout(G)  # Seed for reproducible layout\n",
    "nx.draw(G, pos=pos,with_labels=True)\n",
    "plt.show()"
   ]
  },
  {
   "cell_type": "markdown",
   "id": "70d0eb54-0bdd-4c9d-8a44-bffbc614e209",
   "metadata": {},
   "source": [
    "\\begin{equation}\n",
    "\\textbf{A} = a_{ij} = \n",
    "\\begin{bmatrix}\n",
    "\\begin{array}{c|ccccc}\n",
    "& v_0 & v_1 & v_2 & v_3 & v_4 \\\\\n",
    "\\hline\n",
    "v_0 & 0 & 1 & 1 & 1 & 0 \\\\\n",
    "v_1 & 1 & 0 & 1 & 1 & 1 \\\\\n",
    "v_2 & 1 & 1 & 1 & 1 & 1 \\\\\n",
    "v_3 & 1 & 1 & 1 & 0 & 0 \\\\\n",
    "v_4 & 0 & 1 & 1 & 0 & 1 \\\\\n",
    "\\end{array}\n",
    "\\end{bmatrix}\n",
    "\\end{equation}"
   ]
  },
  {
   "cell_type": "code",
   "execution_count": null,
   "id": "e1f23d96-0f21-43a5-8c62-a2f1eb573908",
   "metadata": {},
   "outputs": [],
   "source": []
  }
 ],
 "metadata": {
  "kernelspec": {
   "display_name": "Python 3 (ipykernel)",
   "language": "python",
   "name": "python3"
  },
  "language_info": {
   "codemirror_mode": {
    "name": "ipython",
    "version": 3
   },
   "file_extension": ".py",
   "mimetype": "text/x-python",
   "name": "python",
   "nbconvert_exporter": "python",
   "pygments_lexer": "ipython3",
   "version": "3.8.16"
  }
 },
 "nbformat": 4,
 "nbformat_minor": 5
}
